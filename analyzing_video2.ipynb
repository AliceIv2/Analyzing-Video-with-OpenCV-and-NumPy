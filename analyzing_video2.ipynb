{
 "cells": [
  {
   "cell_type": "code",
   "execution_count": null,
   "metadata": {},
   "outputs": [],
   "source": [
    "import numpy as np\n",
    "import cv2\n",
    "import matplotlib.pyplot as plt \n",
    "\n",
    "VFILE = \"video/hot_rod.mp4\""
   ]
  },
  {
   "cell_type": "markdown",
   "metadata": {},
   "source": [
    "## Task 1: Define generator for reading video"
   ]
  },
  {
   "cell_type": "code",
   "execution_count": null,
   "metadata": {},
   "outputs": [],
   "source": [
    "def get_frames(filename):\n",
    "    video = cv2.VideoCapture(filename)\n",
    "    while video.isOpened():\n",
    "        ret, frame = video.read()\n",
    "        if ret:\n",
    "            yield frame\n",
    "        else:\n",
    "            break\n",
    "    video.release()\n",
    "    yield None"
   ]
  },
  {
   "cell_type": "markdown",
   "metadata": {},
   "source": [
    "## Task 2: Retrieve and display video frames"
   ]
  },
  {
   "cell_type": "code",
   "execution_count": null,
   "metadata": {},
   "outputs": [],
   "source": [
    "for f in get_frames(VFILE):\n",
    "    if f is None:\n",
    "        break\n",
    "    cv2.imshow('frame', f)\n",
    "    # Hit Escape to stop\n",
    "    if cv2.waitKey(10) == 27:\n",
    "        break\n",
    "    \n",
    "cv2.destroyAllWindows()"
   ]
  },
  {
   "cell_type": "code",
   "execution_count": 2,
   "metadata": {},
   "outputs": [],
   "source": [
    "def get_frame(filename, index):\n",
    "    counter = 0\n",
    "    video = cv2.VideoCapture(filename)\n",
    "    while video.isOpened():\n",
    "        ret, frame = video.read()\n",
    "        if ret:\n",
    "            if counter == index:\n",
    "                return frame\n",
    "            counter += 1\n",
    "        else:\n",
    "            break\n",
    "    video.release()\n",
    "    return None"
   ]
  },
  {
   "cell_type": "code",
   "execution_count": null,
   "metadata": {},
   "outputs": [],
   "source": [
    "frame = get_frame(VFILE, 80)\n",
    "print('shape ', frame.shape)\n",
    "\n",
    "# Examine pixel at 0,0\n",
    "print('pixel at (0,0) ', frame[0,0,:])\n",
    "\n",
    "plt.imshow(frame)"
   ]
  },
  {
   "cell_type": "code",
   "execution_count": null,
   "metadata": {},
   "outputs": [],
   "source": [
    "fix_frame = cv2.cvtColor(frame, cv2.COLOR_BGR2RGB)\n",
    "\n",
    "# Examine pixel at 0,0\n",
    "print('pixel at (0,0) ', fix_frame[0,0,:])\n",
    "plt.imshow(fix_frame)"
   ]
  },
  {
   "cell_type": "code",
   "execution_count": null,
   "metadata": {},
   "outputs": [],
   "source": [
    "darker = 0.3 * fix_frame\n",
    "darker = darker.astype(np.uint8)\n",
    "plt.imshow(darker)"
   ]
  },
  {
   "cell_type": "code",
   "execution_count": null,
   "metadata": {},
   "outputs": [],
   "source": [
    "R = fix_frame[:,:,0]\n",
    "G = fix_frame[:,:,1]\n",
    "B = fix_frame[:,:,2]\n",
    "grey = 0.299*R + 0.587*G + 0.114*B\n",
    "print(grey.shape)\n",
    "plt.imshow(grey, cmap='gray')"
   ]
  },
  {
   "cell_type": "code",
   "execution_count": null,
   "metadata": {},
   "outputs": [],
   "source": [
    "# Draw thick circle\n",
    "frame = get_frame(VFILE, 200)\n",
    "cv2.circle(frame, \n",
    "           center=(200,200), \n",
    "           radius=50, \n",
    "           color=(0,0,255),\n",
    "           thickness=10)\n",
    "\n",
    "fixed_frame = cv2.cvtColor(frame, cv2.COLOR_BGR2RGB)\n",
    "plt.imshow(fixed_frame)"
   ]
  },
  {
   "cell_type": "code",
   "execution_count": null,
   "metadata": {},
   "outputs": [],
   "source": [
    "# Process all video frames\n",
    "counter = 0\n",
    "for frame in get_frames(VFILE):\n",
    "    if frame is None:\n",
    "        break\n",
    "    # Add counter\n",
    "    cv2.putText(frame, \n",
    "                text=str(counter), \n",
    "                org=(100,100), \n",
    "                fontFace=cv2.FONT_HERSHEY_SIMPLEX, \n",
    "                fontScale=1, \n",
    "                color=(0,255,0),\n",
    "                thickness=3)\n",
    "    cv2.imshow('frame', frame)\n",
    "    \n",
    "    # Hit Escape to stop\n",
    "    if cv2.waitKey(10) == 27:\n",
    "        break\n",
    "    counter += 1\n",
    "    \n",
    "cv2.destroyAllWindows()"
   ]
  },
  {
   "cell_type": "code",
   "execution_count": null,
   "metadata": {},
   "outputs": [],
   "source": [
    "# FourCC is a 4-byte code used to specify the video codec.\n",
    "fourcc = cv2.VideoWriter_fourcc('M', 'P', '4', 'V')\n",
    "video_out = cv2.VideoWriter(\"new.mp4\", fourcc, 20, (640,480))\n",
    "\n",
    "# Process all video frames\n",
    "counter = 0\n",
    "for frame in get_frames(VFILE):\n",
    "    if frame is None:\n",
    "        break\n",
    "    # Add counter\n",
    "    cv2.putText(frame, \n",
    "                text=str(counter), \n",
    "                org=(100,100), \n",
    "                fontFace=cv2.FONT_HERSHEY_SIMPLEX, \n",
    "                fontScale=1, \n",
    "                color=(0,255,0),\n",
    "                thickness=3)\n",
    "#    cv2.imshow('frame', frame)\n",
    "    \n",
    "    # Hit Escape to stop\n",
    "#    if cv2.waitKey(10) == 27:\n",
    "#        break\n",
    "    video_out.write(frame)\n",
    "    counter += 1\n",
    "video_out.release()"
   ]
  },
  {
   "cell_type": "code",
   "execution_count": null,
   "metadata": {},
   "outputs": [],
   "source": [
    "# Get number of frames (requires codec support)\n",
    "video = cv2.VideoCapture(VFILE)\n",
    "frame_count = int(video.get(cv2.CAP_PROP_FRAME_COUNT))\n",
    "video.release()\n",
    "print('frame count ', frame_count)"
   ]
  },
  {
   "cell_type": "code",
   "execution_count": null,
   "metadata": {},
   "outputs": [],
   "source": [
    "COLLAGE_ROWS = 3\n",
    "COLLAGE_COLS = 5\n",
    "\n",
    "collage_num_images = COLLAGE_ROWS * COLLAGE_COLS\n",
    "skip_frames = frame_count // collage_num_images\n",
    "\n",
    "frames = []\n",
    "counter = 0\n",
    "for f in get_frames(VFILE):\n",
    "    if counter % skip_frames == 0:\n",
    "        frames.append(f)\n",
    "    counter += 1\n",
    "    \n",
    "row1 = np.concatenate( frames[0:5], axis=1)\n",
    "row2 = np.concatenate( frames[5:10], axis=1)\n",
    "row3 = np.concatenate( frames[10:15], axis=1)\n",
    "collage = np.concatenate( (row1, row2, row3), axis=0) \n",
    "collage = cv2.cvtColor(collage, cv2.COLOR_BGR2RGB)\n",
    "plt.imshow(collage) "
   ]
  },
  {
   "cell_type": "code",
   "execution_count": null,
   "metadata": {},
   "outputs": [],
   "source": []
  },
  {
   "cell_type": "code",
   "execution_count": null,
   "metadata": {},
   "outputs": [],
   "source": []
  }
 ],
 "metadata": {
  "kernelspec": {
   "display_name": "Python 3",
   "language": "python",
   "name": "python3"
  },
  "language_info": {
   "codemirror_mode": {
    "name": "ipython",
    "version": 3
   },
   "file_extension": ".py",
   "mimetype": "text/x-python",
   "name": "python",
   "nbconvert_exporter": "python",
   "pygments_lexer": "ipython3",
   "version": "3.8.0"
  }
 },
 "nbformat": 4,
 "nbformat_minor": 4
}
